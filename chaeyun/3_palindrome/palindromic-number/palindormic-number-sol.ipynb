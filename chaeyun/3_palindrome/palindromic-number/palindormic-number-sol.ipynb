{
 "cells": [
  {
   "cell_type": "code",
   "execution_count": null,
   "metadata": {},
   "outputs": [],
   "source": []
  },
  {
   "attachments": {},
   "cell_type": "markdown",
   "metadata": {},
   "source": [
    "Intuition:\n",
    "The intuition behind this code is to reverse the entire input number and check if the reversed number is equal to the original number. If they are the same, then the number is a palindrome.\n",
    "\n",
    "Approach 1: Reversing the Entire Number\n",
    "Explanation:\n",
    "We begin by performing an initial check. If the input number x is negative, it cannot be a palindrome since palindromes are typically defined for positive numbers. In such cases, we immediately return false.\n",
    "\n",
    "We initialize two variables:\n",
    "\n",
    "reversed: This variable will store the reversed value of the number x.\n",
    "temp: This variable is a temporary placeholder to manipulate the input number without modifying the original value.\n",
    "We enter a loop that continues until temp becomes zero:\n",
    "\n",
    "Inside the loop, we extract the last digit of temp using the modulo operator % and store it in the digit variable.\n",
    "To reverse the number, we multiply the current value of reversed by 10 and add the extracted digit.\n",
    "We then divide temp by 10 to remove the last digit and move on to the next iteration.\n",
    "Once the loop is completed, we have reversed the entire number. Now, we compare the reversed value reversed with the original input value x.\n",
    "\n",
    "If they are equal, it means the number is a palindrome, so we return true.\n",
    "If they are not equal, it means the number is not a palindrome, so we return false.\n"
   ]
  },
  {
   "cell_type": "code",
   "execution_count": null,
   "metadata": {},
   "outputs": [],
   "source": [
    "class Solution:\n",
    "    def isPalindrome(self, x: int) -> bool:\n",
    "        if x < 0:\n",
    "            return False\n",
    "\n",
    "        reversed_num = 0\n",
    "        temp = x\n",
    "\n",
    "        while temp != 0:\n",
    "            digit = temp % 10\n",
    "            reversed_num = reversed_num * 10 + digit\n",
    "            temp //= 10\n",
    "\n",
    "        return reversed_num == x"
   ]
  },
  {
   "attachments": {},
   "cell_type": "markdown",
   "metadata": {},
   "source": [
    "Approach 2: Reversing Half of the Number\n",
    "Instead of reversing the entire number, we can reverse only the last half of the number. This approach is tricky because when we reverse the last half of the number, we don't want the middle digit to be reversed back to its original value. This can happen if the number has an odd number of digits. To resolve this, we can compare the first half of the number with the reversed second half of the number.\n",
    "\n",
    "Explanation:\n",
    "We begin with an initial check to handle special cases:\n",
    "\n",
    "If the input number x is negative, it cannot be a palindrome since palindromes are typically defined for positive numbers. In such cases, we immediately return false.\n",
    "If x is non-zero and ends with a zero, it cannot be a palindrome because leading zeros are not allowed in palindromes. We return false for such cases.\n",
    "We initialize two variables:\n",
    "\n",
    "reversed: This variable will store the reversed second half of the digits of the number.\n",
    "temp: This variable is a temporary placeholder to manipulate the input number without modifying the original value.\n",
    "We enter a loop that continues until the first half of the digits (x) becomes less than or equal to the reversed second half (reversed):\n",
    "\n",
    "Inside the loop, we extract the last digit of x using the modulo operator % and add it to the reversed variable after multiplying it by 10 (shifting the existing digits to the left).\n",
    "We then divide x by 10 to remove the last digit and move towards the center of the number.\n",
    "Once the loop is completed, we have reversed the second half of the digits. Now, we compare the first half of the digits (x) with the reversed second half (reversed) to determine if the number is a palindrome:\n",
    "\n",
    "For an even number of digits, if x is equal to reversed, then the number is a palindrome. We return true.\n",
    "For an odd number of digits, if x is equal to reversed / 10 (ignoring the middle digit), then the number is a palindrome. We return true.\n",
    "If none of the above conditions are met, it means the number is not a palindrome, so we return false.\n",
    "The code avoids the need for reversing the entire number by comparing only the necessary parts. This approach reduces both time complexity and memory usage, resulting in a more efficient solution."
   ]
  },
  {
   "cell_type": "code",
   "execution_count": null,
   "metadata": {},
   "outputs": [],
   "source": [
    "class Solution:\n",
    "    def isPalindrome(self, x: int) -> bool:\n",
    "        if x < 0 or (x != 0 and x % 10 == 0):\n",
    "            return False\n",
    "\n",
    "        reversed_num = 0\n",
    "        original = x\n",
    "\n",
    "        while x > reversed_num:\n",
    "            reversed_num = reversed_num * 10 + x % 10\n",
    "            x //= 10\n",
    "\n",
    "        return x == reversed_num or x == reversed_num // 10"
   ]
  }
 ],
 "metadata": {
  "language_info": {
   "name": "python"
  },
  "orig_nbformat": 4
 },
 "nbformat": 4,
 "nbformat_minor": 2
}

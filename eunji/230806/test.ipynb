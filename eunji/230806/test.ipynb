{
 "cells": [
  {
   "cell_type": "code",
   "execution_count": 1,
   "metadata": {},
   "outputs": [],
   "source": []
  },
  {
   "cell_type": "code",
   "execution_count": 76,
   "metadata": {},
   "outputs": [],
   "source": [
    "combs = []\n",
    "\n",
    "def backtracking(start, arr, isused, input, curr):\n",
    "    isused[start] = 1\n",
    "    arr.append(input[start])\n",
    "    if (curr == len(input)-1):\n",
    "        combs.append(arr[:])\n",
    "        return\n",
    "    \n",
    "    for i in range(0, len(input)):\n",
    "        if isused[i] != 1:\n",
    "            backtracking(i, arr, isused, input, curr+1)\n",
    "            isused[i] = 0\n",
    "            arr.pop()\n",
    "\n",
    "\n",
    "def combs_make(s):\n",
    "    length = len(s)\n",
    "    isused = [0 for i in range(length)]\n",
    "    input = [s[i] for i in range(length)]\n",
    "    arr =  []\n",
    "    combs.clear()  # Initialize 'combs' list\n",
    "    for i in range(length):\n",
    "        backtracking(i, arr, isused, input, 0)\n",
    "        isused[i] = 0\n",
    "        arr.pop()\n",
    "    return combs"
   ]
  },
  {
   "cell_type": "code",
   "execution_count": 103,
   "metadata": {},
   "outputs": [
    {
     "name": "stdout",
     "output_type": "stream",
     "text": [
      "[['a', 'b', 'c', 'c', 'd', 'e'], ['a', 'b', 'c', 'c', 'e', 'd'], ['a', 'b', 'c', 'd', 'c', 'e'], ['a', 'b', 'c', 'd', 'e', 'c'], ['a', 'b', 'c', 'e', 'c', 'd'], ['a', 'b', 'c', 'e', 'd', 'c'], ['a', 'b', 'c', 'c', 'd', 'e'], ['a', 'b', 'c', 'c', 'e', 'd'], ['a', 'b', 'c', 'd', 'c', 'e'], ['a', 'b', 'c', 'd', 'e', 'c'], ['a', 'b', 'c', 'e', 'c', 'd'], ['a', 'b', 'c', 'e', 'd', 'c'], ['a', 'b', 'd', 'c', 'c', 'e'], ['a', 'b', 'd', 'c', 'e', 'c'], ['a', 'b', 'd', 'c', 'c', 'e'], ['a', 'b', 'd', 'c', 'e', 'c'], ['a', 'b', 'd', 'e', 'c', 'c'], ['a', 'b', 'd', 'e', 'c', 'c'], ['a', 'b', 'e', 'c', 'c', 'd'], ['a', 'b', 'e', 'c', 'd', 'c'], ['a', 'b', 'e', 'c', 'c', 'd'], ['a', 'b', 'e', 'c', 'd', 'c'], ['a', 'b', 'e', 'd', 'c', 'c'], ['a', 'b', 'e', 'd', 'c', 'c'], ['a', 'c', 'b', 'c', 'd', 'e'], ['a', 'c', 'b', 'c', 'e', 'd'], ['a', 'c', 'b', 'd', 'c', 'e'], ['a', 'c', 'b', 'd', 'e', 'c'], ['a', 'c', 'b', 'e', 'c', 'd'], ['a', 'c', 'b', 'e', 'd', 'c'], ['a', 'c', 'c', 'b', 'd', 'e'], ['a', 'c', 'c', 'b', 'e', 'd'], ['a', 'c', 'c', 'd', 'b', 'e'], ['a', 'c', 'c', 'd', 'e', 'b'], ['a', 'c', 'c', 'e', 'b', 'd'], ['a', 'c', 'c', 'e', 'd', 'b'], ['a', 'c', 'd', 'b', 'c', 'e'], ['a', 'c', 'd', 'b', 'e', 'c'], ['a', 'c', 'd', 'c', 'b', 'e'], ['a', 'c', 'd', 'c', 'e', 'b'], ['a', 'c', 'd', 'e', 'b', 'c'], ['a', 'c', 'd', 'e', 'c', 'b'], ['a', 'c', 'e', 'b', 'c', 'd'], ['a', 'c', 'e', 'b', 'd', 'c'], ['a', 'c', 'e', 'c', 'b', 'd'], ['a', 'c', 'e', 'c', 'd', 'b'], ['a', 'c', 'e', 'd', 'b', 'c'], ['a', 'c', 'e', 'd', 'c', 'b'], ['a', 'c', 'b', 'c', 'd', 'e'], ['a', 'c', 'b', 'c', 'e', 'd'], ['a', 'c', 'b', 'd', 'c', 'e'], ['a', 'c', 'b', 'd', 'e', 'c'], ['a', 'c', 'b', 'e', 'c', 'd'], ['a', 'c', 'b', 'e', 'd', 'c'], ['a', 'c', 'c', 'b', 'd', 'e'], ['a', 'c', 'c', 'b', 'e', 'd'], ['a', 'c', 'c', 'd', 'b', 'e'], ['a', 'c', 'c', 'd', 'e', 'b'], ['a', 'c', 'c', 'e', 'b', 'd'], ['a', 'c', 'c', 'e', 'd', 'b'], ['a', 'c', 'd', 'b', 'c', 'e'], ['a', 'c', 'd', 'b', 'e', 'c'], ['a', 'c', 'd', 'c', 'b', 'e'], ['a', 'c', 'd', 'c', 'e', 'b'], ['a', 'c', 'd', 'e', 'b', 'c'], ['a', 'c', 'd', 'e', 'c', 'b'], ['a', 'c', 'e', 'b', 'c', 'd'], ['a', 'c', 'e', 'b', 'd', 'c'], ['a', 'c', 'e', 'c', 'b', 'd'], ['a', 'c', 'e', 'c', 'd', 'b'], ['a', 'c', 'e', 'd', 'b', 'c'], ['a', 'c', 'e', 'd', 'c', 'b'], ['a', 'd', 'b', 'c', 'c', 'e'], ['a', 'd', 'b', 'c', 'e', 'c'], ['a', 'd', 'b', 'c', 'c', 'e'], ['a', 'd', 'b', 'c', 'e', 'c'], ['a', 'd', 'b', 'e', 'c', 'c'], ['a', 'd', 'b', 'e', 'c', 'c'], ['a', 'd', 'c', 'b', 'c', 'e'], ['a', 'd', 'c', 'b', 'e', 'c'], ['a', 'd', 'c', 'c', 'b', 'e'], ['a', 'd', 'c', 'c', 'e', 'b'], ['a', 'd', 'c', 'e', 'b', 'c'], ['a', 'd', 'c', 'e', 'c', 'b'], ['a', 'd', 'c', 'b', 'c', 'e'], ['a', 'd', 'c', 'b', 'e', 'c'], ['a', 'd', 'c', 'c', 'b', 'e'], ['a', 'd', 'c', 'c', 'e', 'b'], ['a', 'd', 'c', 'e', 'b', 'c'], ['a', 'd', 'c', 'e', 'c', 'b'], ['a', 'd', 'e', 'b', 'c', 'c'], ['a', 'd', 'e', 'b', 'c', 'c'], ['a', 'd', 'e', 'c', 'b', 'c'], ['a', 'd', 'e', 'c', 'c', 'b'], ['a', 'd', 'e', 'c', 'b', 'c'], ['a', 'd', 'e', 'c', 'c', 'b'], ['a', 'e', 'b', 'c', 'c', 'd'], ['a', 'e', 'b', 'c', 'd', 'c'], ['a', 'e', 'b', 'c', 'c', 'd'], ['a', 'e', 'b', 'c', 'd', 'c'], ['a', 'e', 'b', 'd', 'c', 'c'], ['a', 'e', 'b', 'd', 'c', 'c'], ['a', 'e', 'c', 'b', 'c', 'd'], ['a', 'e', 'c', 'b', 'd', 'c'], ['a', 'e', 'c', 'c', 'b', 'd'], ['a', 'e', 'c', 'c', 'd', 'b'], ['a', 'e', 'c', 'd', 'b', 'c'], ['a', 'e', 'c', 'd', 'c', 'b'], ['a', 'e', 'c', 'b', 'c', 'd'], ['a', 'e', 'c', 'b', 'd', 'c'], ['a', 'e', 'c', 'c', 'b', 'd'], ['a', 'e', 'c', 'c', 'd', 'b'], ['a', 'e', 'c', 'd', 'b', 'c'], ['a', 'e', 'c', 'd', 'c', 'b'], ['a', 'e', 'd', 'b', 'c', 'c'], ['a', 'e', 'd', 'b', 'c', 'c'], ['a', 'e', 'd', 'c', 'b', 'c'], ['a', 'e', 'd', 'c', 'c', 'b'], ['a', 'e', 'd', 'c', 'b', 'c'], ['a', 'e', 'd', 'c', 'c', 'b'], ['b', 'a', 'c', 'c', 'd', 'e'], ['b', 'a', 'c', 'c', 'e', 'd'], ['b', 'a', 'c', 'd', 'c', 'e'], ['b', 'a', 'c', 'd', 'e', 'c'], ['b', 'a', 'c', 'e', 'c', 'd'], ['b', 'a', 'c', 'e', 'd', 'c'], ['b', 'a', 'c', 'c', 'd', 'e'], ['b', 'a', 'c', 'c', 'e', 'd'], ['b', 'a', 'c', 'd', 'c', 'e'], ['b', 'a', 'c', 'd', 'e', 'c'], ['b', 'a', 'c', 'e', 'c', 'd'], ['b', 'a', 'c', 'e', 'd', 'c'], ['b', 'a', 'd', 'c', 'c', 'e'], ['b', 'a', 'd', 'c', 'e', 'c'], ['b', 'a', 'd', 'c', 'c', 'e'], ['b', 'a', 'd', 'c', 'e', 'c'], ['b', 'a', 'd', 'e', 'c', 'c'], ['b', 'a', 'd', 'e', 'c', 'c'], ['b', 'a', 'e', 'c', 'c', 'd'], ['b', 'a', 'e', 'c', 'd', 'c'], ['b', 'a', 'e', 'c', 'c', 'd'], ['b', 'a', 'e', 'c', 'd', 'c'], ['b', 'a', 'e', 'd', 'c', 'c'], ['b', 'a', 'e', 'd', 'c', 'c'], ['b', 'c', 'a', 'c', 'd', 'e'], ['b', 'c', 'a', 'c', 'e', 'd'], ['b', 'c', 'a', 'd', 'c', 'e'], ['b', 'c', 'a', 'd', 'e', 'c'], ['b', 'c', 'a', 'e', 'c', 'd'], ['b', 'c', 'a', 'e', 'd', 'c'], ['b', 'c', 'c', 'a', 'd', 'e'], ['b', 'c', 'c', 'a', 'e', 'd'], ['b', 'c', 'c', 'd', 'a', 'e'], ['b', 'c', 'c', 'd', 'e', 'a'], ['b', 'c', 'c', 'e', 'a', 'd'], ['b', 'c', 'c', 'e', 'd', 'a'], ['b', 'c', 'd', 'a', 'c', 'e'], ['b', 'c', 'd', 'a', 'e', 'c'], ['b', 'c', 'd', 'c', 'a', 'e'], ['b', 'c', 'd', 'c', 'e', 'a'], ['b', 'c', 'd', 'e', 'a', 'c'], ['b', 'c', 'd', 'e', 'c', 'a'], ['b', 'c', 'e', 'a', 'c', 'd'], ['b', 'c', 'e', 'a', 'd', 'c'], ['b', 'c', 'e', 'c', 'a', 'd'], ['b', 'c', 'e', 'c', 'd', 'a'], ['b', 'c', 'e', 'd', 'a', 'c'], ['b', 'c', 'e', 'd', 'c', 'a'], ['b', 'c', 'a', 'c', 'd', 'e'], ['b', 'c', 'a', 'c', 'e', 'd'], ['b', 'c', 'a', 'd', 'c', 'e'], ['b', 'c', 'a', 'd', 'e', 'c'], ['b', 'c', 'a', 'e', 'c', 'd'], ['b', 'c', 'a', 'e', 'd', 'c'], ['b', 'c', 'c', 'a', 'd', 'e'], ['b', 'c', 'c', 'a', 'e', 'd'], ['b', 'c', 'c', 'd', 'a', 'e'], ['b', 'c', 'c', 'd', 'e', 'a'], ['b', 'c', 'c', 'e', 'a', 'd'], ['b', 'c', 'c', 'e', 'd', 'a'], ['b', 'c', 'd', 'a', 'c', 'e'], ['b', 'c', 'd', 'a', 'e', 'c'], ['b', 'c', 'd', 'c', 'a', 'e'], ['b', 'c', 'd', 'c', 'e', 'a'], ['b', 'c', 'd', 'e', 'a', 'c'], ['b', 'c', 'd', 'e', 'c', 'a'], ['b', 'c', 'e', 'a', 'c', 'd'], ['b', 'c', 'e', 'a', 'd', 'c'], ['b', 'c', 'e', 'c', 'a', 'd'], ['b', 'c', 'e', 'c', 'd', 'a'], ['b', 'c', 'e', 'd', 'a', 'c'], ['b', 'c', 'e', 'd', 'c', 'a'], ['b', 'd', 'a', 'c', 'c', 'e'], ['b', 'd', 'a', 'c', 'e', 'c'], ['b', 'd', 'a', 'c', 'c', 'e'], ['b', 'd', 'a', 'c', 'e', 'c'], ['b', 'd', 'a', 'e', 'c', 'c'], ['b', 'd', 'a', 'e', 'c', 'c'], ['b', 'd', 'c', 'a', 'c', 'e'], ['b', 'd', 'c', 'a', 'e', 'c'], ['b', 'd', 'c', 'c', 'a', 'e'], ['b', 'd', 'c', 'c', 'e', 'a'], ['b', 'd', 'c', 'e', 'a', 'c'], ['b', 'd', 'c', 'e', 'c', 'a'], ['b', 'd', 'c', 'a', 'c', 'e'], ['b', 'd', 'c', 'a', 'e', 'c'], ['b', 'd', 'c', 'c', 'a', 'e'], ['b', 'd', 'c', 'c', 'e', 'a'], ['b', 'd', 'c', 'e', 'a', 'c'], ['b', 'd', 'c', 'e', 'c', 'a'], ['b', 'd', 'e', 'a', 'c', 'c'], ['b', 'd', 'e', 'a', 'c', 'c'], ['b', 'd', 'e', 'c', 'a', 'c'], ['b', 'd', 'e', 'c', 'c', 'a'], ['b', 'd', 'e', 'c', 'a', 'c'], ['b', 'd', 'e', 'c', 'c', 'a'], ['b', 'e', 'a', 'c', 'c', 'd'], ['b', 'e', 'a', 'c', 'd', 'c'], ['b', 'e', 'a', 'c', 'c', 'd'], ['b', 'e', 'a', 'c', 'd', 'c'], ['b', 'e', 'a', 'd', 'c', 'c'], ['b', 'e', 'a', 'd', 'c', 'c'], ['b', 'e', 'c', 'a', 'c', 'd'], ['b', 'e', 'c', 'a', 'd', 'c'], ['b', 'e', 'c', 'c', 'a', 'd'], ['b', 'e', 'c', 'c', 'd', 'a'], ['b', 'e', 'c', 'd', 'a', 'c'], ['b', 'e', 'c', 'd', 'c', 'a'], ['b', 'e', 'c', 'a', 'c', 'd'], ['b', 'e', 'c', 'a', 'd', 'c'], ['b', 'e', 'c', 'c', 'a', 'd'], ['b', 'e', 'c', 'c', 'd', 'a'], ['b', 'e', 'c', 'd', 'a', 'c'], ['b', 'e', 'c', 'd', 'c', 'a'], ['b', 'e', 'd', 'a', 'c', 'c'], ['b', 'e', 'd', 'a', 'c', 'c'], ['b', 'e', 'd', 'c', 'a', 'c'], ['b', 'e', 'd', 'c', 'c', 'a'], ['b', 'e', 'd', 'c', 'a', 'c'], ['b', 'e', 'd', 'c', 'c', 'a'], ['c', 'a', 'b', 'c', 'd', 'e'], ['c', 'a', 'b', 'c', 'e', 'd'], ['c', 'a', 'b', 'd', 'c', 'e'], ['c', 'a', 'b', 'd', 'e', 'c'], ['c', 'a', 'b', 'e', 'c', 'd'], ['c', 'a', 'b', 'e', 'd', 'c'], ['c', 'a', 'c', 'b', 'd', 'e'], ['c', 'a', 'c', 'b', 'e', 'd'], ['c', 'a', 'c', 'd', 'b', 'e'], ['c', 'a', 'c', 'd', 'e', 'b'], ['c', 'a', 'c', 'e', 'b', 'd'], ['c', 'a', 'c', 'e', 'd', 'b'], ['c', 'a', 'd', 'b', 'c', 'e'], ['c', 'a', 'd', 'b', 'e', 'c'], ['c', 'a', 'd', 'c', 'b', 'e'], ['c', 'a', 'd', 'c', 'e', 'b'], ['c', 'a', 'd', 'e', 'b', 'c'], ['c', 'a', 'd', 'e', 'c', 'b'], ['c', 'a', 'e', 'b', 'c', 'd'], ['c', 'a', 'e', 'b', 'd', 'c'], ['c', 'a', 'e', 'c', 'b', 'd'], ['c', 'a', 'e', 'c', 'd', 'b'], ['c', 'a', 'e', 'd', 'b', 'c'], ['c', 'a', 'e', 'd', 'c', 'b'], ['c', 'b', 'a', 'c', 'd', 'e'], ['c', 'b', 'a', 'c', 'e', 'd'], ['c', 'b', 'a', 'd', 'c', 'e'], ['c', 'b', 'a', 'd', 'e', 'c'], ['c', 'b', 'a', 'e', 'c', 'd'], ['c', 'b', 'a', 'e', 'd', 'c'], ['c', 'b', 'c', 'a', 'd', 'e'], ['c', 'b', 'c', 'a', 'e', 'd'], ['c', 'b', 'c', 'd', 'a', 'e'], ['c', 'b', 'c', 'd', 'e', 'a'], ['c', 'b', 'c', 'e', 'a', 'd'], ['c', 'b', 'c', 'e', 'd', 'a'], ['c', 'b', 'd', 'a', 'c', 'e'], ['c', 'b', 'd', 'a', 'e', 'c'], ['c', 'b', 'd', 'c', 'a', 'e'], ['c', 'b', 'd', 'c', 'e', 'a'], ['c', 'b', 'd', 'e', 'a', 'c'], ['c', 'b', 'd', 'e', 'c', 'a'], ['c', 'b', 'e', 'a', 'c', 'd'], ['c', 'b', 'e', 'a', 'd', 'c'], ['c', 'b', 'e', 'c', 'a', 'd'], ['c', 'b', 'e', 'c', 'd', 'a'], ['c', 'b', 'e', 'd', 'a', 'c'], ['c', 'b', 'e', 'd', 'c', 'a'], ['c', 'c', 'a', 'b', 'd', 'e'], ['c', 'c', 'a', 'b', 'e', 'd'], ['c', 'c', 'a', 'd', 'b', 'e'], ['c', 'c', 'a', 'd', 'e', 'b'], ['c', 'c', 'a', 'e', 'b', 'd'], ['c', 'c', 'a', 'e', 'd', 'b'], ['c', 'c', 'b', 'a', 'd', 'e'], ['c', 'c', 'b', 'a', 'e', 'd'], ['c', 'c', 'b', 'd', 'a', 'e'], ['c', 'c', 'b', 'd', 'e', 'a'], ['c', 'c', 'b', 'e', 'a', 'd'], ['c', 'c', 'b', 'e', 'd', 'a'], ['c', 'c', 'd', 'a', 'b', 'e'], ['c', 'c', 'd', 'a', 'e', 'b'], ['c', 'c', 'd', 'b', 'a', 'e'], ['c', 'c', 'd', 'b', 'e', 'a'], ['c', 'c', 'd', 'e', 'a', 'b'], ['c', 'c', 'd', 'e', 'b', 'a'], ['c', 'c', 'e', 'a', 'b', 'd'], ['c', 'c', 'e', 'a', 'd', 'b'], ['c', 'c', 'e', 'b', 'a', 'd'], ['c', 'c', 'e', 'b', 'd', 'a'], ['c', 'c', 'e', 'd', 'a', 'b'], ['c', 'c', 'e', 'd', 'b', 'a'], ['c', 'd', 'a', 'b', 'c', 'e'], ['c', 'd', 'a', 'b', 'e', 'c'], ['c', 'd', 'a', 'c', 'b', 'e'], ['c', 'd', 'a', 'c', 'e', 'b'], ['c', 'd', 'a', 'e', 'b', 'c'], ['c', 'd', 'a', 'e', 'c', 'b'], ['c', 'd', 'b', 'a', 'c', 'e'], ['c', 'd', 'b', 'a', 'e', 'c'], ['c', 'd', 'b', 'c', 'a', 'e'], ['c', 'd', 'b', 'c', 'e', 'a'], ['c', 'd', 'b', 'e', 'a', 'c'], ['c', 'd', 'b', 'e', 'c', 'a'], ['c', 'd', 'c', 'a', 'b', 'e'], ['c', 'd', 'c', 'a', 'e', 'b'], ['c', 'd', 'c', 'b', 'a', 'e'], ['c', 'd', 'c', 'b', 'e', 'a'], ['c', 'd', 'c', 'e', 'a', 'b'], ['c', 'd', 'c', 'e', 'b', 'a'], ['c', 'd', 'e', 'a', 'b', 'c'], ['c', 'd', 'e', 'a', 'c', 'b'], ['c', 'd', 'e', 'b', 'a', 'c'], ['c', 'd', 'e', 'b', 'c', 'a'], ['c', 'd', 'e', 'c', 'a', 'b'], ['c', 'd', 'e', 'c', 'b', 'a'], ['c', 'e', 'a', 'b', 'c', 'd'], ['c', 'e', 'a', 'b', 'd', 'c'], ['c', 'e', 'a', 'c', 'b', 'd'], ['c', 'e', 'a', 'c', 'd', 'b'], ['c', 'e', 'a', 'd', 'b', 'c'], ['c', 'e', 'a', 'd', 'c', 'b'], ['c', 'e', 'b', 'a', 'c', 'd'], ['c', 'e', 'b', 'a', 'd', 'c'], ['c', 'e', 'b', 'c', 'a', 'd'], ['c', 'e', 'b', 'c', 'd', 'a'], ['c', 'e', 'b', 'd', 'a', 'c'], ['c', 'e', 'b', 'd', 'c', 'a'], ['c', 'e', 'c', 'a', 'b', 'd'], ['c', 'e', 'c', 'a', 'd', 'b'], ['c', 'e', 'c', 'b', 'a', 'd'], ['c', 'e', 'c', 'b', 'd', 'a'], ['c', 'e', 'c', 'd', 'a', 'b'], ['c', 'e', 'c', 'd', 'b', 'a'], ['c', 'e', 'd', 'a', 'b', 'c'], ['c', 'e', 'd', 'a', 'c', 'b'], ['c', 'e', 'd', 'b', 'a', 'c'], ['c', 'e', 'd', 'b', 'c', 'a'], ['c', 'e', 'd', 'c', 'a', 'b'], ['c', 'e', 'd', 'c', 'b', 'a'], ['c', 'a', 'b', 'c', 'd', 'e'], ['c', 'a', 'b', 'c', 'e', 'd'], ['c', 'a', 'b', 'd', 'c', 'e'], ['c', 'a', 'b', 'd', 'e', 'c'], ['c', 'a', 'b', 'e', 'c', 'd'], ['c', 'a', 'b', 'e', 'd', 'c'], ['c', 'a', 'c', 'b', 'd', 'e'], ['c', 'a', 'c', 'b', 'e', 'd'], ['c', 'a', 'c', 'd', 'b', 'e'], ['c', 'a', 'c', 'd', 'e', 'b'], ['c', 'a', 'c', 'e', 'b', 'd'], ['c', 'a', 'c', 'e', 'd', 'b'], ['c', 'a', 'd', 'b', 'c', 'e'], ['c', 'a', 'd', 'b', 'e', 'c'], ['c', 'a', 'd', 'c', 'b', 'e'], ['c', 'a', 'd', 'c', 'e', 'b'], ['c', 'a', 'd', 'e', 'b', 'c'], ['c', 'a', 'd', 'e', 'c', 'b'], ['c', 'a', 'e', 'b', 'c', 'd'], ['c', 'a', 'e', 'b', 'd', 'c'], ['c', 'a', 'e', 'c', 'b', 'd'], ['c', 'a', 'e', 'c', 'd', 'b'], ['c', 'a', 'e', 'd', 'b', 'c'], ['c', 'a', 'e', 'd', 'c', 'b'], ['c', 'b', 'a', 'c', 'd', 'e'], ['c', 'b', 'a', 'c', 'e', 'd'], ['c', 'b', 'a', 'd', 'c', 'e'], ['c', 'b', 'a', 'd', 'e', 'c'], ['c', 'b', 'a', 'e', 'c', 'd'], ['c', 'b', 'a', 'e', 'd', 'c'], ['c', 'b', 'c', 'a', 'd', 'e'], ['c', 'b', 'c', 'a', 'e', 'd'], ['c', 'b', 'c', 'd', 'a', 'e'], ['c', 'b', 'c', 'd', 'e', 'a'], ['c', 'b', 'c', 'e', 'a', 'd'], ['c', 'b', 'c', 'e', 'd', 'a'], ['c', 'b', 'd', 'a', 'c', 'e'], ['c', 'b', 'd', 'a', 'e', 'c'], ['c', 'b', 'd', 'c', 'a', 'e'], ['c', 'b', 'd', 'c', 'e', 'a'], ['c', 'b', 'd', 'e', 'a', 'c'], ['c', 'b', 'd', 'e', 'c', 'a'], ['c', 'b', 'e', 'a', 'c', 'd'], ['c', 'b', 'e', 'a', 'd', 'c'], ['c', 'b', 'e', 'c', 'a', 'd'], ['c', 'b', 'e', 'c', 'd', 'a'], ['c', 'b', 'e', 'd', 'a', 'c'], ['c', 'b', 'e', 'd', 'c', 'a'], ['c', 'c', 'a', 'b', 'd', 'e'], ['c', 'c', 'a', 'b', 'e', 'd'], ['c', 'c', 'a', 'd', 'b', 'e'], ['c', 'c', 'a', 'd', 'e', 'b'], ['c', 'c', 'a', 'e', 'b', 'd'], ['c', 'c', 'a', 'e', 'd', 'b'], ['c', 'c', 'b', 'a', 'd', 'e'], ['c', 'c', 'b', 'a', 'e', 'd'], ['c', 'c', 'b', 'd', 'a', 'e'], ['c', 'c', 'b', 'd', 'e', 'a'], ['c', 'c', 'b', 'e', 'a', 'd'], ['c', 'c', 'b', 'e', 'd', 'a'], ['c', 'c', 'd', 'a', 'b', 'e'], ['c', 'c', 'd', 'a', 'e', 'b'], ['c', 'c', 'd', 'b', 'a', 'e'], ['c', 'c', 'd', 'b', 'e', 'a'], ['c', 'c', 'd', 'e', 'a', 'b'], ['c', 'c', 'd', 'e', 'b', 'a'], ['c', 'c', 'e', 'a', 'b', 'd'], ['c', 'c', 'e', 'a', 'd', 'b'], ['c', 'c', 'e', 'b', 'a', 'd'], ['c', 'c', 'e', 'b', 'd', 'a'], ['c', 'c', 'e', 'd', 'a', 'b'], ['c', 'c', 'e', 'd', 'b', 'a'], ['c', 'd', 'a', 'b', 'c', 'e'], ['c', 'd', 'a', 'b', 'e', 'c'], ['c', 'd', 'a', 'c', 'b', 'e'], ['c', 'd', 'a', 'c', 'e', 'b'], ['c', 'd', 'a', 'e', 'b', 'c'], ['c', 'd', 'a', 'e', 'c', 'b'], ['c', 'd', 'b', 'a', 'c', 'e'], ['c', 'd', 'b', 'a', 'e', 'c'], ['c', 'd', 'b', 'c', 'a', 'e'], ['c', 'd', 'b', 'c', 'e', 'a'], ['c', 'd', 'b', 'e', 'a', 'c'], ['c', 'd', 'b', 'e', 'c', 'a'], ['c', 'd', 'c', 'a', 'b', 'e'], ['c', 'd', 'c', 'a', 'e', 'b'], ['c', 'd', 'c', 'b', 'a', 'e'], ['c', 'd', 'c', 'b', 'e', 'a'], ['c', 'd', 'c', 'e', 'a', 'b'], ['c', 'd', 'c', 'e', 'b', 'a'], ['c', 'd', 'e', 'a', 'b', 'c'], ['c', 'd', 'e', 'a', 'c', 'b'], ['c', 'd', 'e', 'b', 'a', 'c'], ['c', 'd', 'e', 'b', 'c', 'a'], ['c', 'd', 'e', 'c', 'a', 'b'], ['c', 'd', 'e', 'c', 'b', 'a'], ['c', 'e', 'a', 'b', 'c', 'd'], ['c', 'e', 'a', 'b', 'd', 'c'], ['c', 'e', 'a', 'c', 'b', 'd'], ['c', 'e', 'a', 'c', 'd', 'b'], ['c', 'e', 'a', 'd', 'b', 'c'], ['c', 'e', 'a', 'd', 'c', 'b'], ['c', 'e', 'b', 'a', 'c', 'd'], ['c', 'e', 'b', 'a', 'd', 'c'], ['c', 'e', 'b', 'c', 'a', 'd'], ['c', 'e', 'b', 'c', 'd', 'a'], ['c', 'e', 'b', 'd', 'a', 'c'], ['c', 'e', 'b', 'd', 'c', 'a'], ['c', 'e', 'c', 'a', 'b', 'd'], ['c', 'e', 'c', 'a', 'd', 'b'], ['c', 'e', 'c', 'b', 'a', 'd'], ['c', 'e', 'c', 'b', 'd', 'a'], ['c', 'e', 'c', 'd', 'a', 'b'], ['c', 'e', 'c', 'd', 'b', 'a'], ['c', 'e', 'd', 'a', 'b', 'c'], ['c', 'e', 'd', 'a', 'c', 'b'], ['c', 'e', 'd', 'b', 'a', 'c'], ['c', 'e', 'd', 'b', 'c', 'a'], ['c', 'e', 'd', 'c', 'a', 'b'], ['c', 'e', 'd', 'c', 'b', 'a'], ['d', 'a', 'b', 'c', 'c', 'e'], ['d', 'a', 'b', 'c', 'e', 'c'], ['d', 'a', 'b', 'c', 'c', 'e'], ['d', 'a', 'b', 'c', 'e', 'c'], ['d', 'a', 'b', 'e', 'c', 'c'], ['d', 'a', 'b', 'e', 'c', 'c'], ['d', 'a', 'c', 'b', 'c', 'e'], ['d', 'a', 'c', 'b', 'e', 'c'], ['d', 'a', 'c', 'c', 'b', 'e'], ['d', 'a', 'c', 'c', 'e', 'b'], ['d', 'a', 'c', 'e', 'b', 'c'], ['d', 'a', 'c', 'e', 'c', 'b'], ['d', 'a', 'c', 'b', 'c', 'e'], ['d', 'a', 'c', 'b', 'e', 'c'], ['d', 'a', 'c', 'c', 'b', 'e'], ['d', 'a', 'c', 'c', 'e', 'b'], ['d', 'a', 'c', 'e', 'b', 'c'], ['d', 'a', 'c', 'e', 'c', 'b'], ['d', 'a', 'e', 'b', 'c', 'c'], ['d', 'a', 'e', 'b', 'c', 'c'], ['d', 'a', 'e', 'c', 'b', 'c'], ['d', 'a', 'e', 'c', 'c', 'b'], ['d', 'a', 'e', 'c', 'b', 'c'], ['d', 'a', 'e', 'c', 'c', 'b'], ['d', 'b', 'a', 'c', 'c', 'e'], ['d', 'b', 'a', 'c', 'e', 'c'], ['d', 'b', 'a', 'c', 'c', 'e'], ['d', 'b', 'a', 'c', 'e', 'c'], ['d', 'b', 'a', 'e', 'c', 'c'], ['d', 'b', 'a', 'e', 'c', 'c'], ['d', 'b', 'c', 'a', 'c', 'e'], ['d', 'b', 'c', 'a', 'e', 'c'], ['d', 'b', 'c', 'c', 'a', 'e'], ['d', 'b', 'c', 'c', 'e', 'a'], ['d', 'b', 'c', 'e', 'a', 'c'], ['d', 'b', 'c', 'e', 'c', 'a'], ['d', 'b', 'c', 'a', 'c', 'e'], ['d', 'b', 'c', 'a', 'e', 'c'], ['d', 'b', 'c', 'c', 'a', 'e'], ['d', 'b', 'c', 'c', 'e', 'a'], ['d', 'b', 'c', 'e', 'a', 'c'], ['d', 'b', 'c', 'e', 'c', 'a'], ['d', 'b', 'e', 'a', 'c', 'c'], ['d', 'b', 'e', 'a', 'c', 'c'], ['d', 'b', 'e', 'c', 'a', 'c'], ['d', 'b', 'e', 'c', 'c', 'a'], ['d', 'b', 'e', 'c', 'a', 'c'], ['d', 'b', 'e', 'c', 'c', 'a'], ['d', 'c', 'a', 'b', 'c', 'e'], ['d', 'c', 'a', 'b', 'e', 'c'], ['d', 'c', 'a', 'c', 'b', 'e'], ['d', 'c', 'a', 'c', 'e', 'b'], ['d', 'c', 'a', 'e', 'b', 'c'], ['d', 'c', 'a', 'e', 'c', 'b'], ['d', 'c', 'b', 'a', 'c', 'e'], ['d', 'c', 'b', 'a', 'e', 'c'], ['d', 'c', 'b', 'c', 'a', 'e'], ['d', 'c', 'b', 'c', 'e', 'a'], ['d', 'c', 'b', 'e', 'a', 'c'], ['d', 'c', 'b', 'e', 'c', 'a'], ['d', 'c', 'c', 'a', 'b', 'e'], ['d', 'c', 'c', 'a', 'e', 'b'], ['d', 'c', 'c', 'b', 'a', 'e'], ['d', 'c', 'c', 'b', 'e', 'a'], ['d', 'c', 'c', 'e', 'a', 'b'], ['d', 'c', 'c', 'e', 'b', 'a'], ['d', 'c', 'e', 'a', 'b', 'c'], ['d', 'c', 'e', 'a', 'c', 'b'], ['d', 'c', 'e', 'b', 'a', 'c'], ['d', 'c', 'e', 'b', 'c', 'a'], ['d', 'c', 'e', 'c', 'a', 'b'], ['d', 'c', 'e', 'c', 'b', 'a'], ['d', 'c', 'a', 'b', 'c', 'e'], ['d', 'c', 'a', 'b', 'e', 'c'], ['d', 'c', 'a', 'c', 'b', 'e'], ['d', 'c', 'a', 'c', 'e', 'b'], ['d', 'c', 'a', 'e', 'b', 'c'], ['d', 'c', 'a', 'e', 'c', 'b'], ['d', 'c', 'b', 'a', 'c', 'e'], ['d', 'c', 'b', 'a', 'e', 'c'], ['d', 'c', 'b', 'c', 'a', 'e'], ['d', 'c', 'b', 'c', 'e', 'a'], ['d', 'c', 'b', 'e', 'a', 'c'], ['d', 'c', 'b', 'e', 'c', 'a'], ['d', 'c', 'c', 'a', 'b', 'e'], ['d', 'c', 'c', 'a', 'e', 'b'], ['d', 'c', 'c', 'b', 'a', 'e'], ['d', 'c', 'c', 'b', 'e', 'a'], ['d', 'c', 'c', 'e', 'a', 'b'], ['d', 'c', 'c', 'e', 'b', 'a'], ['d', 'c', 'e', 'a', 'b', 'c'], ['d', 'c', 'e', 'a', 'c', 'b'], ['d', 'c', 'e', 'b', 'a', 'c'], ['d', 'c', 'e', 'b', 'c', 'a'], ['d', 'c', 'e', 'c', 'a', 'b'], ['d', 'c', 'e', 'c', 'b', 'a'], ['d', 'e', 'a', 'b', 'c', 'c'], ['d', 'e', 'a', 'b', 'c', 'c'], ['d', 'e', 'a', 'c', 'b', 'c'], ['d', 'e', 'a', 'c', 'c', 'b'], ['d', 'e', 'a', 'c', 'b', 'c'], ['d', 'e', 'a', 'c', 'c', 'b'], ['d', 'e', 'b', 'a', 'c', 'c'], ['d', 'e', 'b', 'a', 'c', 'c'], ['d', 'e', 'b', 'c', 'a', 'c'], ['d', 'e', 'b', 'c', 'c', 'a'], ['d', 'e', 'b', 'c', 'a', 'c'], ['d', 'e', 'b', 'c', 'c', 'a'], ['d', 'e', 'c', 'a', 'b', 'c'], ['d', 'e', 'c', 'a', 'c', 'b'], ['d', 'e', 'c', 'b', 'a', 'c'], ['d', 'e', 'c', 'b', 'c', 'a'], ['d', 'e', 'c', 'c', 'a', 'b'], ['d', 'e', 'c', 'c', 'b', 'a'], ['d', 'e', 'c', 'a', 'b', 'c'], ['d', 'e', 'c', 'a', 'c', 'b'], ['d', 'e', 'c', 'b', 'a', 'c'], ['d', 'e', 'c', 'b', 'c', 'a'], ['d', 'e', 'c', 'c', 'a', 'b'], ['d', 'e', 'c', 'c', 'b', 'a'], ['e', 'a', 'b', 'c', 'c', 'd'], ['e', 'a', 'b', 'c', 'd', 'c'], ['e', 'a', 'b', 'c', 'c', 'd'], ['e', 'a', 'b', 'c', 'd', 'c'], ['e', 'a', 'b', 'd', 'c', 'c'], ['e', 'a', 'b', 'd', 'c', 'c'], ['e', 'a', 'c', 'b', 'c', 'd'], ['e', 'a', 'c', 'b', 'd', 'c'], ['e', 'a', 'c', 'c', 'b', 'd'], ['e', 'a', 'c', 'c', 'd', 'b'], ['e', 'a', 'c', 'd', 'b', 'c'], ['e', 'a', 'c', 'd', 'c', 'b'], ['e', 'a', 'c', 'b', 'c', 'd'], ['e', 'a', 'c', 'b', 'd', 'c'], ['e', 'a', 'c', 'c', 'b', 'd'], ['e', 'a', 'c', 'c', 'd', 'b'], ['e', 'a', 'c', 'd', 'b', 'c'], ['e', 'a', 'c', 'd', 'c', 'b'], ['e', 'a', 'd', 'b', 'c', 'c'], ['e', 'a', 'd', 'b', 'c', 'c'], ['e', 'a', 'd', 'c', 'b', 'c'], ['e', 'a', 'd', 'c', 'c', 'b'], ['e', 'a', 'd', 'c', 'b', 'c'], ['e', 'a', 'd', 'c', 'c', 'b'], ['e', 'b', 'a', 'c', 'c', 'd'], ['e', 'b', 'a', 'c', 'd', 'c'], ['e', 'b', 'a', 'c', 'c', 'd'], ['e', 'b', 'a', 'c', 'd', 'c'], ['e', 'b', 'a', 'd', 'c', 'c'], ['e', 'b', 'a', 'd', 'c', 'c'], ['e', 'b', 'c', 'a', 'c', 'd'], ['e', 'b', 'c', 'a', 'd', 'c'], ['e', 'b', 'c', 'c', 'a', 'd'], ['e', 'b', 'c', 'c', 'd', 'a'], ['e', 'b', 'c', 'd', 'a', 'c'], ['e', 'b', 'c', 'd', 'c', 'a'], ['e', 'b', 'c', 'a', 'c', 'd'], ['e', 'b', 'c', 'a', 'd', 'c'], ['e', 'b', 'c', 'c', 'a', 'd'], ['e', 'b', 'c', 'c', 'd', 'a'], ['e', 'b', 'c', 'd', 'a', 'c'], ['e', 'b', 'c', 'd', 'c', 'a'], ['e', 'b', 'd', 'a', 'c', 'c'], ['e', 'b', 'd', 'a', 'c', 'c'], ['e', 'b', 'd', 'c', 'a', 'c'], ['e', 'b', 'd', 'c', 'c', 'a'], ['e', 'b', 'd', 'c', 'a', 'c'], ['e', 'b', 'd', 'c', 'c', 'a'], ['e', 'c', 'a', 'b', 'c', 'd'], ['e', 'c', 'a', 'b', 'd', 'c'], ['e', 'c', 'a', 'c', 'b', 'd'], ['e', 'c', 'a', 'c', 'd', 'b'], ['e', 'c', 'a', 'd', 'b', 'c'], ['e', 'c', 'a', 'd', 'c', 'b'], ['e', 'c', 'b', 'a', 'c', 'd'], ['e', 'c', 'b', 'a', 'd', 'c'], ['e', 'c', 'b', 'c', 'a', 'd'], ['e', 'c', 'b', 'c', 'd', 'a'], ['e', 'c', 'b', 'd', 'a', 'c'], ['e', 'c', 'b', 'd', 'c', 'a'], ['e', 'c', 'c', 'a', 'b', 'd'], ['e', 'c', 'c', 'a', 'd', 'b'], ['e', 'c', 'c', 'b', 'a', 'd'], ['e', 'c', 'c', 'b', 'd', 'a'], ['e', 'c', 'c', 'd', 'a', 'b'], ['e', 'c', 'c', 'd', 'b', 'a'], ['e', 'c', 'd', 'a', 'b', 'c'], ['e', 'c', 'd', 'a', 'c', 'b'], ['e', 'c', 'd', 'b', 'a', 'c'], ['e', 'c', 'd', 'b', 'c', 'a'], ['e', 'c', 'd', 'c', 'a', 'b'], ['e', 'c', 'd', 'c', 'b', 'a'], ['e', 'c', 'a', 'b', 'c', 'd'], ['e', 'c', 'a', 'b', 'd', 'c'], ['e', 'c', 'a', 'c', 'b', 'd'], ['e', 'c', 'a', 'c', 'd', 'b'], ['e', 'c', 'a', 'd', 'b', 'c'], ['e', 'c', 'a', 'd', 'c', 'b'], ['e', 'c', 'b', 'a', 'c', 'd'], ['e', 'c', 'b', 'a', 'd', 'c'], ['e', 'c', 'b', 'c', 'a', 'd'], ['e', 'c', 'b', 'c', 'd', 'a'], ['e', 'c', 'b', 'd', 'a', 'c'], ['e', 'c', 'b', 'd', 'c', 'a'], ['e', 'c', 'c', 'a', 'b', 'd'], ['e', 'c', 'c', 'a', 'd', 'b'], ['e', 'c', 'c', 'b', 'a', 'd'], ['e', 'c', 'c', 'b', 'd', 'a'], ['e', 'c', 'c', 'd', 'a', 'b'], ['e', 'c', 'c', 'd', 'b', 'a'], ['e', 'c', 'd', 'a', 'b', 'c'], ['e', 'c', 'd', 'a', 'c', 'b'], ['e', 'c', 'd', 'b', 'a', 'c'], ['e', 'c', 'd', 'b', 'c', 'a'], ['e', 'c', 'd', 'c', 'a', 'b'], ['e', 'c', 'd', 'c', 'b', 'a'], ['e', 'd', 'a', 'b', 'c', 'c'], ['e', 'd', 'a', 'b', 'c', 'c'], ['e', 'd', 'a', 'c', 'b', 'c'], ['e', 'd', 'a', 'c', 'c', 'b'], ['e', 'd', 'a', 'c', 'b', 'c'], ['e', 'd', 'a', 'c', 'c', 'b'], ['e', 'd', 'b', 'a', 'c', 'c'], ['e', 'd', 'b', 'a', 'c', 'c'], ['e', 'd', 'b', 'c', 'a', 'c'], ['e', 'd', 'b', 'c', 'c', 'a'], ['e', 'd', 'b', 'c', 'a', 'c'], ['e', 'd', 'b', 'c', 'c', 'a'], ['e', 'd', 'c', 'a', 'b', 'c'], ['e', 'd', 'c', 'a', 'c', 'b'], ['e', 'd', 'c', 'b', 'a', 'c'], ['e', 'd', 'c', 'b', 'c', 'a'], ['e', 'd', 'c', 'c', 'a', 'b'], ['e', 'd', 'c', 'c', 'b', 'a'], ['e', 'd', 'c', 'a', 'b', 'c'], ['e', 'd', 'c', 'a', 'c', 'b'], ['e', 'd', 'c', 'b', 'a', 'c'], ['e', 'd', 'c', 'b', 'c', 'a'], ['e', 'd', 'c', 'c', 'a', 'b'], ['e', 'd', 'c', 'c', 'b', 'a']]\n"
     ]
    }
   ],
   "source": [
    "A = 'abccde'\n",
    "\n",
    "combs = combs_make(A)\n",
    "# print(combs)"
   ]
  },
  {
   "cell_type": "code",
   "execution_count": 106,
   "metadata": {},
   "outputs": [],
   "source": [
    "def filter():\n",
    "    for i in combs:\n",
    "        for j in range(len(i)):\n",
    "            # print(i[j])\n",
    "            if (j+1 < len(i)) and ((i[j+1] == A[A.index(i[j])+1]) or (i[j+1] == A[A.index(i[j])-1])):\n",
    "                continue\n",
    "            if (j-1 >= 0) and ((i[j-1] == A[A.index(i[j])+1]) or (i[j-1] == A[A.index(i[j])-1])):\n",
    "                continue\n",
    "            # print(i)\n",
    "            return ''.join(i)\n",
    "            \n",
    "            "
   ]
  },
  {
   "cell_type": "code",
   "execution_count": 109,
   "metadata": {},
   "outputs": [],
   "source": [
    "class ListNode:\n",
    "    def __init__(self, val=0, next=None):\n",
    "        self.val = val\n",
    "        self.next = next\n"
   ]
  },
  {
   "cell_type": "code",
   "execution_count": 118,
   "metadata": {},
   "outputs": [],
   "source": [
    "# Example linked list: 1 -> 2 -> 3 -> 4 -> 5\n",
    "node5 = ListNode(1)\n",
    "node4 = ListNode(2, node5)\n",
    "node3 = ListNode(3, node4)\n",
    "node2 = ListNode(2, node3)\n",
    "node1 = ListNode(1, node2)"
   ]
  },
  {
   "cell_type": "code",
   "execution_count": 119,
   "metadata": {},
   "outputs": [],
   "source": [
    "def print_linkedlist(start_node):\n",
    "    while (True):\n",
    "        print(start_node.val)\n",
    "        if ( start_node.next == None): break\n",
    "        start_node = start_node.next"
   ]
  },
  {
   "cell_type": "code",
   "execution_count": 120,
   "metadata": {},
   "outputs": [
    {
     "name": "stdout",
     "output_type": "stream",
     "text": [
      "1\n",
      "2\n",
      "3\n",
      "2\n",
      "1\n"
     ]
    }
   ],
   "source": [
    "print_linkedlist(node1)"
   ]
  },
  {
   "cell_type": "code",
   "execution_count": 144,
   "metadata": {},
   "outputs": [],
   "source": [
    "import copy\n",
    "\n",
    "def palindrome(start_node):\n",
    "    print_linkedlist(node1)\n",
    "    prev = copy.deepcopy(start_node)\n",
    "    next = copy.deepcopy(start_node.next)\n",
    "    \n",
    "    if (next == None or prev == None):\n",
    "        return True\n",
    "        \n",
    "    while(True):\n",
    "        # print(prev.val)\n",
    "        # print(next.val)\n",
    "        prev = prev.next\n",
    "        next = next.next\n",
    "        if (next.next == None):\n",
    "            if next.val == start_node.val:\n",
    "                prev.next = None\n",
    "                # print(start_node.next.val)\n",
    "                palindrome(start_node.next)\n",
    "            else: return False\n",
    "    "
   ]
  },
  {
   "cell_type": "code",
   "execution_count": 149,
   "metadata": {},
   "outputs": [],
   "source": [
    "\n",
    "def palindrome(start_node):\n",
    "    if start_node == None or start_node.next == None:\n",
    "        return True\n",
    "\n",
    "    prev = start_node\n",
    "    nxt = start_node.next\n",
    "    \n",
    "    while nxt:\n",
    "        prev = prev.next\n",
    "        nxt = nxt.next\n",
    "        if nxt:\n",
    "            nxt = nxt.next\n",
    "\n",
    "    prev_rev = None\n",
    "    while prev:\n",
    "        temp = prev.next\n",
    "        prev.next = prev_rev\n",
    "        prev_rev = prev\n",
    "        prev = temp\n",
    "\n",
    "    while prev_rev:\n",
    "        if start_node.val != prev_rev.val:\n",
    "            return False\n",
    "        start_node = start_node.next\n",
    "        prev_rev = prev_rev.next\n",
    "\n",
    "    return True\n",
    "\n"
   ]
  },
  {
   "cell_type": "code",
   "execution_count": 150,
   "metadata": {},
   "outputs": [],
   "source": [
    "node4 = ListNode(1)\n",
    "node3 = ListNode(2, node4)\n",
    "node2 = ListNode(2, node3)\n",
    "node1 = ListNode(1, node2)\n",
    "\n",
    "result = palindrome(node1)"
   ]
  },
  {
   "cell_type": "code",
   "execution_count": 154,
   "metadata": {},
   "outputs": [
    {
     "name": "stdout",
     "output_type": "stream",
     "text": [
      "1 -> 3 -> 3 -> 2 -> 1 -> None\n",
      "False\n"
     ]
    }
   ],
   "source": [
    "node5 = ListNode(1)\n",
    "node4 = ListNode(2, node5)\n",
    "node3 = ListNode(3, node4)\n",
    "node2 = ListNode(3, node3)\n",
    "node1 = ListNode(1, node2)\n",
    "\n",
    "print_linkedlist(node1)\n",
    "result = palindrome(node1)\n",
    "print(result)"
   ]
  },
  {
   "cell_type": "code",
   "execution_count": 173,
   "metadata": {},
   "outputs": [],
   "source": [
    "def issub(s, t):\n",
    "    ## t in s?\n",
    "    S = [s[i] for i in range(len(s))]\n",
    "    T =  [t[i] for i in range(len(t))]\n",
    "    \n",
    "    for i in range(len(S)):\n",
    "        if S[i] == T[0]:\n",
    "            for j in range(len(T)):\n",
    "                if S[i+j] != T[j]:\n",
    "                    return False\n",
    "            return True\n",
    "    "
   ]
  },
  {
   "cell_type": "code",
   "execution_count": 172,
   "metadata": {},
   "outputs": [
    {
     "data": {
      "text/plain": [
       "True"
      ]
     },
     "execution_count": 172,
     "metadata": {},
     "output_type": "execute_result"
    }
   ],
   "source": [
    "def issub(s, t):\n",
    "    ## t in s?\n",
    "    S = [s[i] for i in range(len(s))]\n",
    "    T =  [t[i] for i in range(len(t))]\n",
    "    \n",
    "    for i in range(len(S)):\n",
    "        if S[i] == T[0]:\n",
    "            for j in range(len(T)):\n",
    "                if S[i+j] != T[j]:\n",
    "                    return False\n",
    "            return True\n",
    "    "
   ]
  },
  {
   "cell_type": "code",
   "execution_count": null,
   "metadata": {},
   "outputs": [],
   "source": []
  }
 ],
 "metadata": {
  "kernelspec": {
   "display_name": "Python 3",
   "language": "python",
   "name": "python3"
  },
  "language_info": {
   "codemirror_mode": {
    "name": "ipython",
    "version": 3
   },
   "file_extension": ".py",
   "mimetype": "text/x-python",
   "name": "python",
   "nbconvert_exporter": "python",
   "pygments_lexer": "ipython3",
   "version": "3.8.9"
  },
  "orig_nbformat": 4
 },
 "nbformat": 4,
 "nbformat_minor": 2
}

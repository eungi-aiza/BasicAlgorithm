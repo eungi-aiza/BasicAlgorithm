{
 "cells": [
  {
   "cell_type": "code",
   "execution_count": 1,
   "metadata": {},
   "outputs": [],
   "source": [
    "A = \"abc\"\n",
    "B = \"abb\""
   ]
  },
  {
   "cell_type": "code",
   "execution_count": 2,
   "metadata": {},
   "outputs": [],
   "source": [
    "from itertools import permutations"
   ]
  },
  {
   "cell_type": "code",
   "execution_count": 6,
   "metadata": {},
   "outputs": [],
   "source": [
    "A_list = list(A)"
   ]
  },
  {
   "cell_type": "code",
   "execution_count": 7,
   "metadata": {},
   "outputs": [
    {
     "data": {
      "text/plain": [
       "['a', 'b', 'c']"
      ]
     },
     "execution_count": 7,
     "metadata": {},
     "output_type": "execute_result"
    }
   ],
   "source": [
    "A_list"
   ]
  },
  {
   "cell_type": "code",
   "execution_count": 10,
   "metadata": {},
   "outputs": [
    {
     "name": "stdout",
     "output_type": "stream",
     "text": [
      "[('a', 'b', 'c'), ('a', 'c', 'b'), ('b', 'a', 'c'), ('b', 'c', 'a'), ('c', 'a', 'b'), ('c', 'b', 'a')]\n"
     ]
    }
   ],
   "source": [
    "print(list(permutations(A_list, 3)))"
   ]
  },
  {
   "cell_type": "code",
   "execution_count": 41,
   "metadata": {},
   "outputs": [],
   "source": [
    "\n",
    "def permu(s, n):\n",
    "    ans = []\n",
    "    if n == 0:\n",
    "        return \"\"\n",
    "    \n",
    "    for i in range(len(s)):\n",
    "        for next in permu(s[:i]+s[i+1:], n-1):\n",
    "            print(0)\n",
    "            ans += s[i]+next\n",
    "    return ans"
   ]
  },
  {
   "cell_type": "code",
   "execution_count": 49,
   "metadata": {},
   "outputs": [
    {
     "name": "stdout",
     "output_type": "stream",
     "text": [
      "[['a', 'b', 'c'], ['a', 'c', 'b'], ['b', 'a', 'c'], ['b', 'c', 'a'], ['c', 'a', 'b'], ['c', 'b', 'a']]\n"
     ]
    }
   ],
   "source": [
    "def bt(s, n):\n",
    "    result = []\n",
    "\n",
    "    if n == 0:\n",
    "        return [[]]\n",
    "\n",
    "    for i, elem in enumerate(s): \n",
    "        for next in bt(s[:i] + s[i+1:], n-1):\n",
    "            result += [[elem]+next]\n",
    "              \n",
    "    return result\n",
    "    \n",
    "    \n",
    "arr = ['a', 'b', 'c']\n",
    "print(bt(arr, 3))"
   ]
  },
  {
   "cell_type": "code",
   "execution_count": 42,
   "metadata": {},
   "outputs": [
    {
     "data": {
      "text/plain": [
       "[]"
      ]
     },
     "execution_count": 42,
     "metadata": {},
     "output_type": "execute_result"
    }
   ],
   "source": [
    "permu(['a', 'b', 'c'], 3)"
   ]
  },
  {
   "cell_type": "code",
   "execution_count": 76,
   "metadata": {},
   "outputs": [],
   "source": [
    "def str_perm(s):\n",
    "    s = list(s)\n",
    "    def temp_func(s, n):\n",
    "        result = []\n",
    "\n",
    "        if n == 0:\n",
    "            return [[]]\n",
    "\n",
    "        for i, elem in enumerate(s): # a # b # c \n",
    "            for next in temp_func(s[:i] + s[i+1:], n-1): # b c, 2 # c, 1 # 0\n",
    "                print(\"elem\", elem, \"next\", next)\n",
    "                result += [[elem]+next] # c + [] # b + c \n",
    "                print('result', result)\n",
    "                \n",
    "        return result\n",
    "    \n",
    "    ans = []\n",
    "    perm = temp_func(s, len(s))\n",
    "    print(perm)\n",
    "    for i in range(len(perm)):\n",
    "        temp = \"\"\n",
    "        for j in perm[i]:\n",
    "            temp += j\n",
    "        ans.append(temp)\n",
    "    ans = list(set(ans))\n",
    "    return ans\n",
    "        \n",
    "        \n",
    "    \n",
    "    "
   ]
  },
  {
   "cell_type": "code",
   "execution_count": 78,
   "metadata": {},
   "outputs": [
    {
     "name": "stdout",
     "output_type": "stream",
     "text": [
      "elem c next []\n",
      "result [['c']]\n",
      "elem b next ['c']\n",
      "result [['b', 'c']]\n",
      "elem b next []\n",
      "result [['b']]\n",
      "elem c next ['b']\n",
      "result [['b', 'c'], ['c', 'b']]\n",
      "elem a next ['b', 'c']\n",
      "result [['a', 'b', 'c']]\n",
      "elem a next ['c', 'b']\n",
      "result [['a', 'b', 'c'], ['a', 'c', 'b']]\n",
      "elem c next []\n",
      "result [['c']]\n",
      "elem a next ['c']\n",
      "result [['a', 'c']]\n",
      "elem a next []\n",
      "result [['a']]\n",
      "elem c next ['a']\n",
      "result [['a', 'c'], ['c', 'a']]\n",
      "elem b next ['a', 'c']\n",
      "result [['a', 'b', 'c'], ['a', 'c', 'b'], ['b', 'a', 'c']]\n",
      "elem b next ['c', 'a']\n",
      "result [['a', 'b', 'c'], ['a', 'c', 'b'], ['b', 'a', 'c'], ['b', 'c', 'a']]\n",
      "elem b next []\n",
      "result [['b']]\n",
      "elem a next ['b']\n",
      "result [['a', 'b']]\n",
      "elem a next []\n",
      "result [['a']]\n",
      "elem b next ['a']\n",
      "result [['a', 'b'], ['b', 'a']]\n",
      "elem c next ['a', 'b']\n",
      "result [['a', 'b', 'c'], ['a', 'c', 'b'], ['b', 'a', 'c'], ['b', 'c', 'a'], ['c', 'a', 'b']]\n",
      "elem c next ['b', 'a']\n",
      "result [['a', 'b', 'c'], ['a', 'c', 'b'], ['b', 'a', 'c'], ['b', 'c', 'a'], ['c', 'a', 'b'], ['c', 'b', 'a']]\n",
      "[['a', 'b', 'c'], ['a', 'c', 'b'], ['b', 'a', 'c'], ['b', 'c', 'a'], ['c', 'a', 'b'], ['c', 'b', 'a']]\n"
     ]
    },
    {
     "data": {
      "text/plain": [
       "['cba', 'abc', 'bac', 'cab', 'bca', 'acb']"
      ]
     },
     "execution_count": 78,
     "metadata": {},
     "output_type": "execute_result"
    }
   ],
   "source": [
    "str_perm('abc')"
   ]
  },
  {
   "cell_type": "code",
   "execution_count": 56,
   "metadata": {},
   "outputs": [
    {
     "name": "stdout",
     "output_type": "stream",
     "text": [
      "bc\n"
     ]
    }
   ],
   "source": [
    "s = \"\"\n",
    "s1 = \"bc\"\n",
    "\n",
    "print(s+s1)"
   ]
  },
  {
   "cell_type": "code",
   "execution_count": null,
   "metadata": {},
   "outputs": [],
   "source": []
  }
 ],
 "metadata": {
  "kernelspec": {
   "display_name": "Python 3",
   "language": "python",
   "name": "python3"
  },
  "language_info": {
   "codemirror_mode": {
    "name": "ipython",
    "version": 3
   },
   "file_extension": ".py",
   "mimetype": "text/x-python",
   "name": "python",
   "nbconvert_exporter": "python",
   "pygments_lexer": "ipython3",
   "version": "3.8.9"
  },
  "orig_nbformat": 4
 },
 "nbformat": 4,
 "nbformat_minor": 2
}

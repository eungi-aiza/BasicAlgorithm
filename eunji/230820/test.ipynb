{
 "cells": [
  {
   "cell_type": "code",
   "execution_count": 1,
   "metadata": {},
   "outputs": [
    {
     "name": "stdout",
     "output_type": "stream",
     "text": [
      "hey\n"
     ]
    }
   ],
   "source": [
    "print('hey')"
   ]
  },
  {
   "cell_type": "code",
   "execution_count": 3,
   "metadata": {},
   "outputs": [],
   "source": [
    "def merge(L, first, mid, last):\n",
    "    k = first\n",
    "    sub1 = L[first:mid+1]\n",
    "    sub2 = L[mid+1:last+1]\n",
    "    i = j = 0\n",
    "    while i < len(sub1) and j < len(sub2):\n",
    "        if sub1[i] <= sub2[j]:\n",
    "            L[k] = sub1[i]\n",
    "            i = i + 1\n",
    "        else:\n",
    "            L[k] = sub2[j]\n",
    "            j = j + 1\n",
    "        k = k + 1\n",
    "    if i < len(sub1):\n",
    "        L[k:last+1] = sub1[i:]\n",
    "    elif j < len(sub2):\n",
    "        L[k:last+1] = sub2[j:]\n",
    "\n",
    "\n",
    "def mergeSortHelp(L, first, last):\n",
    "    if first == last:\n",
    "        return\n",
    "    else:\n",
    "        mid = first + (last - first) // 2\n",
    "        mergeSortHelp(L, first, mid)\n",
    "        mergeSortHelp(L, mid+1, last)\n",
    "        merge(L, first, mid, last)\n",
    "        \n",
    "\n",
    "def mergeSort(L):\n",
    "    mergeSortHelp(L, 0, len(L)-1)"
   ]
  },
  {
   "cell_type": "code",
   "execution_count": 4,
   "metadata": {},
   "outputs": [
    {
     "name": "stdout",
     "output_type": "stream",
     "text": [
      "[-1, 0, 1, 2, 3]\n",
      "[-1, 1, 2, 4, 7]\n",
      "[100, 101, 102]\n"
     ]
    }
   ],
   "source": [
    "a = [3, 2, 1, 0, -1] # 4\n",
    "b = [4, 7, -1, 1, 2] # 3\n",
    "c = [100, 101, 102] # 1\n",
    "mergeSort(a)\n",
    "mergeSort(b)\n",
    "mergeSort(c)\n",
    "print(a)\n",
    "print(b)\n",
    "print(c)"
   ]
  },
  {
   "cell_type": "code",
   "execution_count": 5,
   "metadata": {},
   "outputs": [],
   "source": [
    "def smallest_pos_int(array):\n",
    "    ans = 1\n",
    "    for i in array:\n",
    "        if i == ans:\n",
    "            ans += 1\n",
    "        elif i < ans:\n",
    "            continue\n",
    "        elif i > ans:\n",
    "            break\n",
    "    return ans\n",
    "    "
   ]
  },
  {
   "cell_type": "code",
   "execution_count": 7,
   "metadata": {},
   "outputs": [
    {
     "name": "stdout",
     "output_type": "stream",
     "text": [
      "4\n",
      "3\n",
      "1\n"
     ]
    }
   ],
   "source": [
    "print(smallest_pos_int(a))\n",
    "print(smallest_pos_int(b))\n",
    "print(smallest_pos_int(c))\n"
   ]
  },
  {
   "cell_type": "code",
   "execution_count": null,
   "metadata": {},
   "outputs": [],
   "source": [
    "def smallest_pos_int(array):\n",
    "    n = len(array)\n",
    "    \n",
    "    # Step 1: Move all non-positive elements to the left side of the array\n",
    "    j = 0\n",
    "    for i in range(n):\n",
    "        if array[i] <= 0:\n",
    "            array[i], array[j] = array[j], array[i]\n",
    "            j += 1\n",
    "    \n",
    "    # Step 2: Separate the positive elements and use them to index the array\n",
    "    for i in range(j, n):\n",
    "        index = abs(array[i]) - 1  # Adjust index to 0-based\n",
    "        if index < n - j:\n",
    "            array[j + index] = -abs(array[j + index])\n",
    "    \n",
    "    # Step 3: Find the first positive element and return the smallest missing integer\n",
    "    for i in range(j, n):\n",
    "        if array[i] > 0:\n",
    "            return i - j + 1\n",
    "    \n",
    "    return n - j + 1  # If all positive integers are present, return the next\n",
    "    \n",
    "if __name__ == '__main__':\n",
    "    a = [3, 2, 1, 0, -1]\n",
    "    b = [4, 7, -1, 1, 2]\n",
    "    c = [100, 101, 102]\n",
    "    print(smallest_pos_int(a))  # Output: 4\n",
    "    print(smallest_pos_int(b))  # Output: 3\n",
    "    print(smallest_pos_int(c))  # Output: 1\n"
   ]
  },
  {
   "attachments": {},
   "cell_type": "markdown",
   "metadata": {},
   "source": [
    "# LexLargest"
   ]
  },
  {
   "cell_type": "code",
   "execution_count": 181,
   "metadata": {},
   "outputs": [],
   "source": [
    "class GNode:\n",
    "    def __init__(self, id, color=\"W\", d=-1, f=-1, p=None):\n",
    "        self.id = id # id is a string \n",
    "        self.color = color # color (status) of node\n",
    "        self.d = d\n",
    "        self.f = f\n",
    "        self.parent = p\n",
    "def __str__(self):\n",
    "    return self.id"
   ]
  },
  {
   "cell_type": "code",
   "execution_count": 182,
   "metadata": {},
   "outputs": [],
   "source": [
    "r, s, t, u = GNode('r'), GNode('s'), GNode('t'), GNode('u')\n",
    "v, w, x, y = GNode('v'), GNode('w'), GNode('x'), GNode('y')\n",
    "G = dict()\n",
    "G[r], G[w], G[t], G[u] = [w, v], [s, r, t], [s, x, w], [y]\n",
    "G[v], G[s], G[x], G[y] = [r], [w, t, x], [s, t], [u]"
   ]
  },
  {
   "cell_type": "code",
   "execution_count": 183,
   "metadata": {},
   "outputs": [
    {
     "data": {
      "text/plain": [
       "'r'"
      ]
     },
     "execution_count": 183,
     "metadata": {},
     "output_type": "execute_result"
    }
   ],
   "source": [
    "r.id"
   ]
  },
  {
   "cell_type": "code",
   "execution_count": 184,
   "metadata": {},
   "outputs": [],
   "source": [
    "import copy\n",
    "def backtracking(Graph, start, target, ans, fin):\n",
    "    if (start == target):\n",
    "        temp = copy.deepcopy(ans)\n",
    "        fin.append(temp)\n",
    "        return \n",
    "    \n",
    "    for child in G[start]:\n",
    "        if child.color == \"W\":\n",
    "            child.color = \"R\"\n",
    "            ans.append(child.id)\n",
    "            backtracking(Graph, child, target, ans, fin)\n",
    "            child.color = \"W\"\n",
    "            ans.pop()\n",
    "    \n",
    "    "
   ]
  },
  {
   "cell_type": "code",
   "execution_count": 185,
   "metadata": {},
   "outputs": [],
   "source": [
    "def SortGraph(Graph):\n",
    "    for k, v in Graph.items():\n",
    "        v.sort(key=lambda x: x.id, reverse=True)"
   ]
  },
  {
   "cell_type": "code",
   "execution_count": 186,
   "metadata": {},
   "outputs": [],
   "source": [
    "def LexLargest(Graph, start, target):\n",
    "    SortGraph(Graph)\n",
    "    ans = []\n",
    "    fin = []\n",
    "    start.color = \"R\"\n",
    "    ans.append(start.id)    \n",
    "    backtracking(Graph, start, target, ans, fin)\n",
    "    if fin: return fin[0]\n",
    "    else: return []\n",
    "    "
   ]
  },
  {
   "attachments": {},
   "cell_type": "markdown",
   "metadata": {},
   "source": []
  },
  {
   "cell_type": "code",
   "execution_count": 187,
   "metadata": {},
   "outputs": [
    {
     "name": "stdout",
     "output_type": "stream",
     "text": [
      "['t', 'x', 's', 'w', 'r', 'v']\n",
      "['u']\n",
      "[]\n"
     ]
    }
   ],
   "source": [
    "print(LexLargest(G, t, v))\n",
    "print(LexLargest(G, u, u))\n",
    "print(LexLargest(G, w, y))"
   ]
  },
  {
   "cell_type": "code",
   "execution_count": 179,
   "metadata": {},
   "outputs": [
    {
     "name": "stdout",
     "output_type": "stream",
     "text": [
      "-------v : r--------\n",
      "w\n",
      "v\n",
      "-------v : w--------\n",
      "s\n",
      "r\n",
      "t\n",
      "-------v : t--------\n",
      "s\n",
      "x\n",
      "w\n",
      "-------v : u--------\n",
      "y\n",
      "-------v : v--------\n",
      "r\n",
      "-------v : s--------\n",
      "w\n",
      "t\n",
      "x\n",
      "-------v : x--------\n",
      "s\n",
      "t\n",
      "-------v : y--------\n",
      "u\n"
     ]
    }
   ],
   "source": [
    "for k, v in G.items():\n",
    "    print(f\"-------v : {k.id}--------\")\n",
    "    for i in v:\n",
    "        print(i.id)"
   ]
  },
  {
   "cell_type": "code",
   "execution_count": 180,
   "metadata": {},
   "outputs": [
    {
     "name": "stdout",
     "output_type": "stream",
     "text": [
      "-------v : r--------\n",
      "w\n",
      "v\n",
      "-------v : w--------\n",
      "t\n",
      "s\n",
      "r\n",
      "-------v : t--------\n",
      "x\n",
      "w\n",
      "s\n",
      "-------v : u--------\n",
      "y\n",
      "-------v : v--------\n",
      "r\n",
      "-------v : s--------\n",
      "x\n",
      "w\n",
      "t\n",
      "-------v : x--------\n",
      "t\n",
      "s\n",
      "-------v : y--------\n",
      "u\n"
     ]
    }
   ],
   "source": [
    "SortGraph(G)\n",
    "for k, v in G.items():\n",
    "    print(f\"-------v : {k.id}--------\")\n",
    "    for i in v:\n",
    "        print(i.id)"
   ]
  },
  {
   "cell_type": "code",
   "execution_count": null,
   "metadata": {},
   "outputs": [],
   "source": []
  }
 ],
 "metadata": {
  "kernelspec": {
   "display_name": "Python 3",
   "language": "python",
   "name": "python3"
  },
  "language_info": {
   "codemirror_mode": {
    "name": "ipython",
    "version": 3
   },
   "file_extension": ".py",
   "mimetype": "text/x-python",
   "name": "python",
   "nbconvert_exporter": "python",
   "pygments_lexer": "ipython3",
   "version": "3.11.3"
  },
  "orig_nbformat": 4
 },
 "nbformat": 4,
 "nbformat_minor": 2
}
